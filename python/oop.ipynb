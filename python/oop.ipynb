{
 "cells": [
  {
   "cell_type": "markdown",
   "id": "eeb59f1a",
   "metadata": {},
   "source": [
    "# OOP Tutorial"
   ]
  },
  {
   "cell_type": "markdown",
   "id": "23c63c28",
   "metadata": {},
   "source": [
    "[Corey Schafer's Playlist](https://www.youtube.com/playlist?list=PL-osiE80TeTsqhIuOqKhwlXsIBIdSeYtc)"
   ]
  },
  {
   "cell_type": "code",
   "execution_count": 1,
   "id": "4051d20d",
   "metadata": {},
   "outputs": [],
   "source": [
    "class Employee:\n",
    "\n",
    "    raise_amount = 1.4\n",
    "    no_of_emps = 0\n",
    "\n",
    "    # constructor\n",
    "    def __init__(self, firstn, lastn, pay):\n",
    "        self.firstn = firstn\n",
    "        self.lastn = lastn\n",
    "        self.pay = pay\n",
    "        self.email = f\"{firstn}.{lastn}@company.com\"\n",
    "\n",
    "        Employee.no_of_emps += 1\n",
    "\n",
    "    def full_name(self):\n",
    "        return f\"{self.firstn} {self.lastn}\"\n",
    "\n",
    "    def apply_raise(self):\n",
    "        # self.raise_amount != Employee.raise_amount\n",
    "        self_pay = int(self.pay * self.raise_amount)\n",
    "\n",
    "    @classmethod\n",
    "    def set_raise_amt(cls, amount):\n",
    "        cls.raise_amt = amount\n",
    "\n",
    "    # classmethod as alternative constructor\n",
    "    @classmethod\n",
    "    def from_str(cls, new_emp):\n",
    "        firstn, lastn, pay = new_emp.split(\"-\")\n",
    "        return cls(firstn, lastn, pay)\n",
    "\n",
    "    @staticmethod\n",
    "    def is_working_day(day):\n",
    "        if day.weekday() == 5 or day.weekday() == 6:\n",
    "            return False\n",
    "        else:\n",
    "            return True\n",
    "\n",
    "    # good practice: print message to recreate object\n",
    "    def __repr__(self):\n",
    "        return f\"Employee({self.firstn}, {self.lastn}, {self.pay})\"\n",
    "\n",
    "    # print redeable message\n",
    "    def __str__(self):\n",
    "        return f\"{self.full_name()} - {self.email}\"\n",
    "\n",
    "    def __add__(self, other):\n",
    "        return self.pay + other.pay\n",
    "\n",
    "    @property\n",
    "    def email_dec(self):\n",
    "        return f\"{self.firstn}.{self.lastn}@company.com\"\n",
    "\n",
    "    @email_dec.setter\n",
    "    def email_dec(self, email):\n",
    "        self.firstn, self.lastn = email.strip(\"@company.com\").split(\".\")\n",
    "\n",
    "    @email_dec.deleter\n",
    "    def email_dec(self):\n",
    "        print(\"Delete First Name & Last Name\")\n",
    "        self.firstn = None\n",
    "        self.lastn = None"
   ]
  },
  {
   "cell_type": "code",
   "execution_count": 2,
   "id": "f9aaf27e",
   "metadata": {},
   "outputs": [],
   "source": [
    "class Developer(Employee):\n",
    "\n",
    "    # overwrite parent's attribute\n",
    "    raise_amount = 1.5\n",
    "\n",
    "    # add new attribute to constructor\n",
    "    def __init__(self, firstn, lastn, pay, prog_lang):\n",
    "        super().__init__(firstn, lastn, pay)\n",
    "        self.prog_lang = prog_lang"
   ]
  },
  {
   "cell_type": "code",
   "execution_count": 3,
   "id": "bd56fe91",
   "metadata": {},
   "outputs": [],
   "source": [
    "class Manager(Employee):\n",
    "    def __init__(self, firstn, lastn, pay, employees = None):\n",
    "        super().__init__(firstn, lastn, pay)\n",
    "        if employees is None:\n",
    "            self.employees = []\n",
    "        else:\n",
    "            self.employees = employees\n",
    "\n",
    "    def add_emp(self, emp):\n",
    "        if emp not in self.employees:\n",
    "            self.employees.append(emp)\n",
    "\n",
    "    def del_emp(self, emp):\n",
    "        if emp in self.employees:\n",
    "            self.employees.remove(emp)\n",
    "\n",
    "    def print_emps(self):\n",
    "        for emp in self.employees:\n",
    "            print(f\"--> {emp.full_name()}\")  "
   ]
  },
  {
   "cell_type": "markdown",
   "id": "9763120a",
   "metadata": {},
   "source": [
    "## Part 1: Classes & Instances"
   ]
  },
  {
   "cell_type": "markdown",
   "id": "b17820d5",
   "metadata": {},
   "source": [
    "Attributes: adjectives of a class\n",
    "\n",
    "Methods: verbs of a class "
   ]
  },
  {
   "cell_type": "code",
   "execution_count": 4,
   "id": "25f60ae5",
   "metadata": {},
   "outputs": [],
   "source": [
    "emp_1 = Employee(\"Bruce\", \"Wayne\", 5000)\n",
    "emp_2 = Employee(\"Clark\", \"Kent\", 200)"
   ]
  },
  {
   "cell_type": "code",
   "execution_count": 5,
   "id": "7abb7098",
   "metadata": {},
   "outputs": [
    {
     "name": "stdout",
     "output_type": "stream",
     "text": [
      "Bruce\n",
      "Clark.Kent@company.com\n"
     ]
    }
   ],
   "source": [
    "# print attribute\n",
    "print(emp_1.firstn)\n",
    "print(emp_2.email)"
   ]
  },
  {
   "cell_type": "code",
   "execution_count": 6,
   "id": "08abaa5d",
   "metadata": {},
   "outputs": [
    {
     "name": "stdout",
     "output_type": "stream",
     "text": [
      "Bruce Wayne\n",
      "Clark Kent\n"
     ]
    }
   ],
   "source": [
    "# print method\n",
    "print(emp_1.full_name())\n",
    "print(Employee.full_name(emp_2))"
   ]
  },
  {
   "cell_type": "markdown",
   "id": "71d6ba13",
   "metadata": {},
   "source": [
    "## Part 2: Class Variable"
   ]
  },
  {
   "cell_type": "code",
   "execution_count": 7,
   "id": "f07d61fb",
   "metadata": {},
   "outputs": [
    {
     "name": "stdout",
     "output_type": "stream",
     "text": [
      "1.4\n"
     ]
    }
   ],
   "source": [
    "# variable of a class\n",
    "print(Employee.raise_amount)"
   ]
  },
  {
   "cell_type": "code",
   "execution_count": 8,
   "id": "a3e64860",
   "metadata": {},
   "outputs": [
    {
     "name": "stdout",
     "output_type": "stream",
     "text": [
      "1.4\n"
     ]
    }
   ],
   "source": [
    "# variable of an instance\n",
    "print(emp_1.raise_amount)"
   ]
  },
  {
   "cell_type": "code",
   "execution_count": 9,
   "id": "00ee6db2",
   "metadata": {},
   "outputs": [
    {
     "name": "stdout",
     "output_type": "stream",
     "text": [
      "1.4\n",
      "{'firstn': 'Bruce', 'lastn': 'Wayne', 'pay': 5000, 'email': 'Bruce.Wayne@company.com'}\n",
      "1.4\n",
      "{'firstn': 'Clark', 'lastn': 'Kent', 'pay': 200, 'email': 'Clark.Kent@company.com', 'raise_amount': 1.5}\n",
      "1.5\n",
      "2\n"
     ]
    }
   ],
   "source": [
    "# changing variable of instance\n",
    "emp_2.raise_amount = 1.5\n",
    "print(Employee.raise_amount)\n",
    "print(emp_1.__dict__)\n",
    "print(emp_1.raise_amount)\n",
    "print(emp_2.__dict__)\n",
    "print(emp_2.raise_amount)\n",
    "print(Employee.no_of_emps)"
   ]
  },
  {
   "cell_type": "markdown",
   "id": "6addb7f4",
   "metadata": {},
   "source": [
    "## Part 3: `classmethod` & `staticmethod`"
   ]
  },
  {
   "cell_type": "markdown",
   "id": "bd0076eb",
   "metadata": {},
   "source": [
    "regular method: pass `self`\n",
    "\n",
    "`classmethod`: pass `class`\n",
    "\n",
    "`staticmethod`: no relation to instance or class"
   ]
  },
  {
   "cell_type": "code",
   "execution_count": 10,
   "id": "b4c24228",
   "metadata": {},
   "outputs": [
    {
     "name": "stdout",
     "output_type": "stream",
     "text": [
      "1.05\n",
      "1.05\n",
      "1.05\n"
     ]
    }
   ],
   "source": [
    "Employee.set_raise_amt(1.05)\n",
    "print(Employee.raise_amt)\n",
    "print(emp_1.raise_amt)\n",
    "print(emp_2.raise_amt)"
   ]
  },
  {
   "cell_type": "code",
   "execution_count": 11,
   "id": "8d702c26",
   "metadata": {},
   "outputs": [
    {
     "name": "stdout",
     "output_type": "stream",
     "text": [
      "Hal.Jordan@company.com\n"
     ]
    }
   ],
   "source": [
    "emp_3 = Employee.from_str(\"Hal-Jordan-500\")\n",
    "print(emp_3.email)"
   ]
  },
  {
   "cell_type": "code",
   "execution_count": 12,
   "id": "ac1752ad",
   "metadata": {},
   "outputs": [
    {
     "name": "stdout",
     "output_type": "stream",
     "text": [
      "True\n"
     ]
    }
   ],
   "source": [
    "import datetime\n",
    "my_date = datetime.date(2016, 7, 11)\n",
    "print(Employee.is_working_day(my_date))"
   ]
  },
  {
   "cell_type": "markdown",
   "id": "ed543c27",
   "metadata": {},
   "source": [
    "## Part 4: Inheritance - Creating SubClasses"
   ]
  },
  {
   "cell_type": "code",
   "execution_count": 13,
   "id": "2d8ad6e2",
   "metadata": {},
   "outputs": [
    {
     "name": "stdout",
     "output_type": "stream",
     "text": [
      "Oliver.Queen@company.com\n",
      "C++\n"
     ]
    }
   ],
   "source": [
    "emp_4 = Developer(\"Oliver\", \"Queen\", 2000, \"C++\")\n",
    "print(emp_4.email)\n",
    "print(emp_4.prog_lang)"
   ]
  },
  {
   "cell_type": "code",
   "execution_count": 14,
   "id": "50695af4",
   "metadata": {},
   "outputs": [
    {
     "name": "stdout",
     "output_type": "stream",
     "text": [
      "Barry.Allen@company.com\n",
      "--> Bruce Wayne\n",
      "--> Bruce Wayne\n",
      "--> Clark Kent\n",
      "--> Clark Kent\n"
     ]
    }
   ],
   "source": [
    "mngr_1 = Manager(\"Barry\", \"Allen\", 5500, [emp_1])\n",
    "print(mngr_1.email)\n",
    "mngr_1.print_emps()\n",
    "mngr_1.add_emp(emp_2)\n",
    "mngr_1.print_emps()\n",
    "mngr_1.del_emp(emp_1)\n",
    "mngr_1.print_emps()"
   ]
  },
  {
   "cell_type": "code",
   "execution_count": 15,
   "id": "dbf5a62e",
   "metadata": {},
   "outputs": [
    {
     "name": "stdout",
     "output_type": "stream",
     "text": [
      "True\n",
      "False\n"
     ]
    }
   ],
   "source": [
    "print(isinstance(mngr_1, Manager))\n",
    "print(issubclass(Manager, Developer))"
   ]
  },
  {
   "cell_type": "markdown",
   "id": "a5a7bb14",
   "metadata": {},
   "source": [
    "## Part 5: Special Methods (Dunder Methods)"
   ]
  },
  {
   "cell_type": "code",
   "execution_count": 16,
   "id": "d83ff1b7",
   "metadata": {},
   "outputs": [
    {
     "name": "stdout",
     "output_type": "stream",
     "text": [
      "Bruce Wayne - Bruce.Wayne@company.com\n",
      "Employee(Bruce, Wayne, 5000)\n",
      "Employee(Bruce, Wayne, 5000)\n",
      "Bruce Wayne - Bruce.Wayne@company.com\n",
      "Bruce Wayne - Bruce.Wayne@company.com\n",
      "5200\n"
     ]
    }
   ],
   "source": [
    "print(emp_1)\n",
    "print(repr(emp_1))\n",
    "print(emp_1.__repr__())\n",
    "print(str(emp_1))\n",
    "print(emp_1.__str__())\n",
    "print(emp_1 + emp_2)"
   ]
  },
  {
   "cell_type": "markdown",
   "id": "018e1d46",
   "metadata": {},
   "source": [
    "## Part 6: Decorators (Getters, Setters, Deleters)"
   ]
  },
  {
   "cell_type": "code",
   "execution_count": 17,
   "id": "cb6aeec4",
   "metadata": {},
   "outputs": [
    {
     "name": "stdout",
     "output_type": "stream",
     "text": [
      "Thomas\n",
      "Bruce.Wayne@company.com\n",
      "Thomas.Wayne@company.com\n"
     ]
    }
   ],
   "source": [
    "emp_1.firstn = \"Thomas\"\n",
    "print(emp_1.firstn)\n",
    "print(emp_1.email)\n",
    "print(emp_1.email_dec)"
   ]
  },
  {
   "cell_type": "code",
   "execution_count": 18,
   "id": "78f18152",
   "metadata": {},
   "outputs": [
    {
     "name": "stdout",
     "output_type": "stream",
     "text": [
      "Martha\n",
      "Wayne\n"
     ]
    }
   ],
   "source": [
    "emp_1.email_dec = \"Martha.Wayne@compay.com\"\n",
    "print(emp_1.firstn)\n",
    "print(emp_1.lastn)"
   ]
  },
  {
   "cell_type": "code",
   "execution_count": 19,
   "id": "3b535026",
   "metadata": {},
   "outputs": [
    {
     "name": "stdout",
     "output_type": "stream",
     "text": [
      "Delete First Name & Last Name\n",
      "None\n",
      "None\n"
     ]
    }
   ],
   "source": [
    "del emp_1.email_dec\n",
    "print(emp_1.firstn)\n",
    "print(emp_1.lastn)"
   ]
  }
 ],
 "metadata": {
  "kernelspec": {
   "display_name": "Python 3 (ipykernel)",
   "language": "python",
   "name": "python3"
  },
  "language_info": {
   "codemirror_mode": {
    "name": "ipython",
    "version": 3
   },
   "file_extension": ".py",
   "mimetype": "text/x-python",
   "name": "python",
   "nbconvert_exporter": "python",
   "pygments_lexer": "ipython3",
   "version": "3.9.13"
  }
 },
 "nbformat": 4,
 "nbformat_minor": 5
}
